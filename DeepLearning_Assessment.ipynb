{
 "cells": [
  {
   "cell_type": "markdown",
   "id": "93107fc2",
   "metadata": {},
   "source": [
    "# Fundamentals of Deep Learning "
   ]
  },
  {
   "cell_type": "markdown",
   "id": "59a90370",
   "metadata": {},
   "source": [
    "## Assessment"
   ]
  },
  {
   "cell_type": "markdown",
   "id": "7d9a8168",
   "metadata": {},
   "source": [
    "Congratulations on going through today's course! Hopefully, you've learned some valuable skills along the wayand had fun doing it. Now it's time to put those skills to the test. In this assessment, you will train a new modelthat is able to recognize fresh and rotten fruit. You will need to get the model to a validation accuracy of 92% in order to pass the assessment, though we challenge you to do even better if you can. You will have to use theskills that you learned in the previous exercises. Specifically, we suggest using some combination of transferlearning, data augmentation, and fine tuning. Once you have trained the model to be at least 92% accurate onthe validation dataset, save your model, and then assess its accuracy. Let's get started!"
   ]
  },
  {
   "cell_type": "markdown",
   "id": "d35275a7",
   "metadata": {},
   "source": [
    "## The Dataset "
   ]
  },
  {
   "cell_type": "markdown",
   "id": "1c4c3d14",
   "metadata": {},
   "source": [
    "In this exercise, you will train a model to recognize fresh and rotten fruits. The dataset comes from Kaggle (https://www.kaggle.com/sriramr/fruits-fresh-and-rotten-for-classification), a great place to go if you're interested in starting a project after this class. The dataset structure is in the data/fruits folder. There are 6 categoriesof fruits: fresh apples, fresh oranges, fresh bananas, rotten apples, rotten oranges, and rotten bananas. This will mean that your model will require an output layer of 6 neurons to do the categorization successfully. You'll also need to compile the model with\n",
    "categorical_crossentropy, as we have more than two categories."
   ]
  },
  {
   "cell_type": "markdown",
   "id": "36ff1758",
   "metadata": {},
   "source": [
    "## Load ImageNet Base Model "
   ]
  },
  {
   "cell_type": "markdown",
   "id": "7501a589",
   "metadata": {},
   "source": [
    "We encourage you to start with a model pretrained on ImageNet. Load the model with the correct weights, set aninput shape, and choose to remove the last layers of the model. Remember that images have three dimensions: a height, and width, and a number of channels. Because these pictures are in color, there will be three channels for red, green, and blue. We've filled in the input shape for you. This cannot be changed or the assessment will fail."
   ]
  },
  {
   "cell_type": "code",
   "execution_count": 1,
   "id": "158c457c",
   "metadata": {},
   "outputs": [
    {
     "name": "stdout",
     "output_type": "stream",
     "text": [
      "Downloading data from https://storage.googleapis.com/tensorflow/keras-applications/vgg16/vgg16_weights_tf_dim_ordering_tf_kernels_notop.h5\n",
      "58889256/58889256 [==============================] - 3s 0us/step\n"
     ]
    }
   ],
   "source": [
    "from tensorflow import keras\n",
    "\n",
    "base_model = keras.applications.VGG16(\n",
    "    weights = \"imagenet\", \n",
    "    input_shape = (224, 224, 3),\n",
    "    include_top = False)"
   ]
  },
  {
   "cell_type": "markdown",
   "id": "52b94b64",
   "metadata": {},
   "source": [
    "## Freeze Base Model"
   ]
  },
  {
   "cell_type": "markdown",
   "id": "7e257291",
   "metadata": {},
   "source": [
    "Next, we suggest freezing the base model. This is done so that all the learning from the ImageNet dataset does not get destroyed in the initial training."
   ]
  },
  {
   "cell_type": "code",
   "execution_count": 2,
   "id": "e4acf77d",
   "metadata": {},
   "outputs": [],
   "source": [
    "# Freeze base model\n",
    "base_model.trainable = False"
   ]
  },
  {
   "cell_type": "markdown",
   "id": "06615d50",
   "metadata": {},
   "source": [
    "## Add Layers to Model"
   ]
  },
  {
   "cell_type": "markdown",
   "id": "ddfcc96b",
   "metadata": {},
   "source": [
    "Now it's time to add layers to the pretrained model. Pay close attention to the last dense layer and make sure it has the correct number of neurons to classify the different types of fruit."
   ]
  },
  {
   "cell_type": "code",
   "execution_count": 3,
   "id": "8ba6c038",
   "metadata": {},
   "outputs": [],
   "source": [
    "# Create inputs with correct shape\n",
    "inputs = keras.Input(shape = (224, 224,3))\n",
    "x = base_model(inputs, training = False) \n",
    "\n",
    "# Add pooling layer or flatten layer\n",
    "x = keras.layers.GlobalAveragePooling2D()(x)\n",
    "\n",
    "# Add final dense layer\n",
    "outputs = keras.layers.Dense(1, activation = 'softmax')(x)\n",
    "\n",
    "# Combine inputs and outputs to create model\n",
    "model = keras.Model(inputs, outputs)"
   ]
  },
  {
   "cell_type": "code",
   "execution_count": 4,
   "id": "d9c09471",
   "metadata": {},
   "outputs": [
    {
     "name": "stdout",
     "output_type": "stream",
     "text": [
      "Model: \"model\"\n",
      "_________________________________________________________________\n",
      " Layer (type)                Output Shape              Param #   \n",
      "=================================================================\n",
      " input_2 (InputLayer)        [(None, 224, 224, 3)]     0         \n",
      "                                                                 \n",
      " vgg16 (Functional)          (None, 7, 7, 512)         14714688  \n",
      "                                                                 \n",
      " global_average_pooling2d (G  (None, 512)              0         \n",
      " lobalAveragePooling2D)                                          \n",
      "                                                                 \n",
      " dense (Dense)               (None, 1)                 513       \n",
      "                                                                 \n",
      "=================================================================\n",
      "Total params: 14,715,201\n",
      "Trainable params: 513\n",
      "Non-trainable params: 14,714,688\n",
      "_________________________________________________________________\n"
     ]
    }
   ],
   "source": [
    "model.summary()"
   ]
  },
  {
   "cell_type": "markdown",
   "id": "08d35865",
   "metadata": {},
   "source": [
    "## Compile Model"
   ]
  },
  {
   "cell_type": "markdown",
   "id": "880eb94d",
   "metadata": {},
   "source": [
    "Now it's time to compile the model with loss and metrics options. Remember that we're training on a number of different categories, rather than a binary classification problem."
   ]
  },
  {
   "cell_type": "code",
   "execution_count": 5,
   "id": "7be828f6",
   "metadata": {},
   "outputs": [],
   "source": [
    "model.compile(loss = 'categorical_crossentropy', metrics = ['accuracy'])"
   ]
  },
  {
   "cell_type": "markdown",
   "id": "f02da371",
   "metadata": {},
   "source": [
    "## Augment the Data"
   ]
  },
  {
   "cell_type": "markdown",
   "id": "14d47a0e",
   "metadata": {},
   "source": [
    "If you'd like, try to augment the data to improve the dataset. There is also documentation for the\n",
    "Keras ImageDataGenerator class (https://keras.io/api/preprocessing/image/#imagedatagenerator-class). This step is optional, but it may be helpful to get to 92% accuracy. "
   ]
  },
  {
   "cell_type": "code",
   "execution_count": 6,
   "id": "839cada2",
   "metadata": {},
   "outputs": [],
   "source": [
    "from tensorflow.keras.preprocessing.image import ImageDataGenerator\n",
    "\n",
    "datagen_train = ImageDataGenerator(\n",
    "    rotation_range = 10, # randomly rotate images in the range (degrees, 0 to 180)\n",
    "    zoom_range = 0.1, # Randomly zoom image\n",
    "    width_shift_range = 0.1, # randomly shift images horizontally (fraction of total width)\n",
    "    height_shift_range = 0.1, # randomly shift images vertically (fraction of total height)\n",
    "    horizontal_flip = True, # randomly flip images horizontally\n",
    "    vertical_flip = False, # Don't randomly flip images vertically\n",
    ")\n",
    "\n",
    "datagen_valid = ImageDataGenerator(samplewise_center = True)"
   ]
  },
  {
   "cell_type": "markdown",
   "id": "28ab3f76",
   "metadata": {},
   "source": [
    "## Load Dataset"
   ]
  },
  {
   "cell_type": "markdown",
   "id": "19dacb2b",
   "metadata": {},
   "source": [
    "Now it's time to load the train and validation datasets. Pick the right folders, as well as the right `target_size` of the images (it needs to match the height and width input of the model you've created)."
   ]
  },
  {
   "cell_type": "code",
   "execution_count": null,
   "id": "ae8f20ec",
   "metadata": {},
   "outputs": [],
   "source": [
    "# load and iterate training dataset\n",
    "train_it = datagen_train.flow_from_directory(\n",
    "    \"data/fruits/train/\",\n",
    "    target_size = (224, 224),\n",
    "    color_mode = \"rgb\", \n",
    "    class_mode = \"categorical\",\n",
    ")\n",
    "\n",
    "# load and iterate validation dataset\n",
    "valid_it = datagen_valid.flow_from_directory(\n",
    "    \"data/fruits/valid/\",\n",
    "    target_size = (224, 224),\n",
    "    color_mode = \"rgb\",\n",
    "    class_mode = \"categorical\",\n",
    ")"
   ]
  },
  {
   "cell_type": "markdown",
   "id": "f5717221",
   "metadata": {},
   "source": [
    "## Train the Model "
   ]
  },
  {
   "cell_type": "markdown",
   "id": "cbd20a20",
   "metadata": {},
   "source": [
    "Time to train the model! Pass the `train` and `valid` iterators into the `fit` function, as well as setting the desired number of epochs."
   ]
  },
  {
   "cell_type": "code",
   "execution_count": null,
   "id": "4bf5da76",
   "metadata": {},
   "outputs": [],
   "source": [
    "model.fit(train_it, \n",
    "          validation_data = valid_it,\n",
    "          steps_per_epoch = train_it.samples/train_it.batch_size,\n",
    "          validation_steps = valid_it.samples/valid_it.batch_size,\n",
    "          epochs = 20\n",
    ")"
   ]
  },
  {
   "cell_type": "markdown",
   "id": "4eb4ea74",
   "metadata": {},
   "source": [
    "## Unfreeze Model for Fine Tuning"
   ]
  },
  {
   "cell_type": "markdown",
   "id": "a4635b81",
   "metadata": {},
   "source": [
    "If you have reached 92% validation accuracy already, this next step is optional. If not, we suggest fine tuning the model with a very low learning rate."
   ]
  },
  {
   "cell_type": "code",
   "execution_count": null,
   "id": "45edf2dc",
   "metadata": {},
   "outputs": [],
   "source": [
    "# Unfreeze the base model\n",
    "base_model.trainable = True\n",
    "\n",
    "# Compile the model with a low learning rate\n",
    "model.compile(optimizer = keras.optimizers.RMSprop(learning_rate = .00001), \n",
    "              loss = 'categorical_crossentropy', metrics = ['accuracy'])"
   ]
  },
  {
   "cell_type": "code",
   "execution_count": null,
   "id": "fd1f38b2",
   "metadata": {},
   "outputs": [],
   "source": [
    "model.fit(train_it,\n",
    "          validation_data = valid_it, \n",
    "          steps_per_epoch = train_it.samples/train_it.batch_size,\n",
    "          validation_steps = valid_it.samples/valid_it.batch_size,\n",
    "          epochs = 20)"
   ]
  },
  {
   "cell_type": "markdown",
   "id": "8fe2832f",
   "metadata": {},
   "source": [
    "## Evaluate the Model "
   ]
  },
  {
   "cell_type": "markdown",
   "id": "37f1b5ab",
   "metadata": {},
   "source": [
    "Hopefully, you now have a model that has a validation accuracy of 92% or higher. If not, you may want to go back and either run more epochs of training, or adjust your data augmentation.\n",
    "\n",
    "Once you are satisfied with the validation accuracy, evaluate the model by executing the following cell. The evaluate function will return a tuple, where the first value is your loss, and the second value is your accuracy. To pass, the model will need to have an accuracy value of 92% or higher."
   ]
  },
  {
   "cell_type": "code",
   "execution_count": null,
   "id": "0065ae9f",
   "metadata": {},
   "outputs": [],
   "source": [
    "model.evaluate(valid_it, steps = valid_it.samples/valid_it.batch_size)"
   ]
  },
  {
   "cell_type": "markdown",
   "id": "97d052b0",
   "metadata": {},
   "source": [
    "## Run the Assessment"
   ]
  },
  {
   "cell_type": "markdown",
   "id": "0a3c1cba",
   "metadata": {},
   "source": [
    "To assess your model run the following two cells.\n",
    "\n",
    "<b> NOTE </b>: `run_assessment` assumes your model is named `model` and your validation data iterator is called `valid_it`. If for any reason you have modified these variable names, please update the names of thearguments passed to `run_assessment`."
   ]
  },
  {
   "cell_type": "code",
   "execution_count": null,
   "id": "8393e5e6",
   "metadata": {},
   "outputs": [],
   "source": [
    "from run_assessment import run_assessment"
   ]
  },
  {
   "cell_type": "code",
   "execution_count": null,
   "id": "3153484f",
   "metadata": {},
   "outputs": [],
   "source": [
    "run_assessment(model, valid_it)"
   ]
  },
  {
   "cell_type": "code",
   "execution_count": null,
   "id": "b07da692",
   "metadata": {},
   "outputs": [],
   "source": []
  }
 ],
 "metadata": {
  "kernelspec": {
   "display_name": "Python 3 (ipykernel)",
   "language": "python",
   "name": "python3"
  },
  "language_info": {
   "codemirror_mode": {
    "name": "ipython",
    "version": 3
   },
   "file_extension": ".py",
   "mimetype": "text/x-python",
   "name": "python",
   "nbconvert_exporter": "python",
   "pygments_lexer": "ipython3",
   "version": "3.8.15"
  }
 },
 "nbformat": 4,
 "nbformat_minor": 5
}
